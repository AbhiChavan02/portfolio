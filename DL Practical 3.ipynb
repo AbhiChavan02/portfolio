{
 "cells": [
  {
   "cell_type": "markdown",
   "id": "83008923",
   "metadata": {},
   "source": [
    "# Build the Image classfication model by dividing the model into four stages."
   ]
  },
  {
   "cell_type": "markdown",
   "id": "1bac22bb",
   "metadata": {},
   "source": [
    "a) load and preprocessing image"
   ]
  },
  {
   "cell_type": "code",
   "execution_count": 15,
   "id": "383f557c",
   "metadata": {},
   "outputs": [],
   "source": [
    "import numpy as np\n",
    "import tensorflow as tf\n",
    "#image dataset\n",
    "from tensorflow.keras.datasets import cifar10\n",
    "#model of data depend on other data\n",
    "from tensorflow.keras.models import Sequential\n",
    "#convolutional layers\n",
    "from tensorflow.keras.layers import Conv2D, MaxPooling2D, Flatten, Dense\n",
    "#different categories\n",
    "from tensorflow.keras.utils import to_categorical\n",
    "\n",
    "# Load the MNIST dataset\n",
    "#Modified National Institute of Standard and Tech.\n",
    "(x_train, y_train), (x_test, y_test) = cifar10.load_data()\n",
    "\n",
    "# Preprocess the image data\n",
    "x_train = x_train.astype('float32') / 255.0\n",
    "x_test = x_test.astype('float32') / 255.0\n",
    "\n",
    "#one hot encoding\n",
    "y_train = to_categorical(y_train, 10)\n",
    "y_test = to_categorical(y_test, 10)"
   ]
  },
  {
   "cell_type": "markdown",
   "id": "2433fd7b",
   "metadata": {},
   "source": [
    "b) Defining model architecture"
   ]
  },
  {
   "cell_type": "code",
   "execution_count": 16,
   "id": "c9d4e1c2",
   "metadata": {},
   "outputs": [],
   "source": [
    "# Define the model architecture\n",
    "model = Sequential()\n",
    "#input_shape means provided to the keras model to input\n",
    "model.add(Conv2D(32, (3, 3), activation='relu', input_shape=(32, 32, 3)))\n",
    "model.add(MaxPooling2D((2, 2)))\n",
    "# Relu - introduces the property of nonlinearity to a DL model\n",
    "# Softmax - is an activation function that scales numbers/logits into probabilities.\n",
    "model.add(Conv2D(64, (3, 3), activation='relu'))\n",
    "model.add(MaxPooling2D((2, 2)))\n",
    "model.add(Conv2D(64, (3, 3), activation='relu'))\n",
    "model.add(Flatten())\n",
    "model.add(Dense(64, activation='relu'))\n",
    "model.add(Dense(10, activation='softmax'))"
   ]
  },
  {
   "cell_type": "markdown",
   "id": "99828dab",
   "metadata": {},
   "source": [
    "c) Training the Model"
   ]
  },
  {
   "cell_type": "code",
   "execution_count": 17,
   "id": "a59de4c4",
   "metadata": {},
   "outputs": [
    {
     "name": "stdout",
     "output_type": "stream",
     "text": [
      "Epoch 1/10\n",
      "782/782 [==============================] - 26s 32ms/step - loss: 1.5962 - accuracy: 0.4162 - val_loss: 1.3513 - val_accuracy: 0.5154\n",
      "Epoch 2/10\n",
      "782/782 [==============================] - 24s 31ms/step - loss: 1.2357 - accuracy: 0.5585 - val_loss: 1.1573 - val_accuracy: 0.5877\n",
      "Epoch 3/10\n",
      "782/782 [==============================] - 25s 33ms/step - loss: 1.0688 - accuracy: 0.6229 - val_loss: 1.0125 - val_accuracy: 0.6435\n",
      "Epoch 4/10\n",
      "782/782 [==============================] - 26s 33ms/step - loss: 0.9779 - accuracy: 0.6571 - val_loss: 0.9648 - val_accuracy: 0.6605\n",
      "Epoch 5/10\n",
      "782/782 [==============================] - 26s 33ms/step - loss: 0.9046 - accuracy: 0.6859 - val_loss: 0.9858 - val_accuracy: 0.6617\n",
      "Epoch 6/10\n",
      "782/782 [==============================] - 24s 31ms/step - loss: 0.8414 - accuracy: 0.7049 - val_loss: 0.9673 - val_accuracy: 0.6669\n",
      "Epoch 7/10\n",
      "782/782 [==============================] - 24s 30ms/step - loss: 0.8011 - accuracy: 0.7192 - val_loss: 0.8835 - val_accuracy: 0.6920\n",
      "Epoch 8/10\n",
      "782/782 [==============================] - 24s 31ms/step - loss: 0.7621 - accuracy: 0.7339 - val_loss: 0.8813 - val_accuracy: 0.6943\n",
      "Epoch 9/10\n",
      "782/782 [==============================] - 24s 30ms/step - loss: 0.7272 - accuracy: 0.7477 - val_loss: 0.8699 - val_accuracy: 0.7053\n",
      "Epoch 10/10\n",
      "782/782 [==============================] - 24s 30ms/step - loss: 0.6948 - accuracy: 0.7561 - val_loss: 0.8854 - val_accuracy: 0.6980\n"
     ]
    }
   ],
   "source": [
    "# Compile the model\n",
    "# adam - is optimization model for stochastic gradient descent for train DL models\n",
    "model.compile(optimizer='adam', loss='categorical_crossentropy', metrics=['accuracy'])\n",
    "\n",
    "# Train the model\n",
    "history = model.fit(x_train, y_train, epochs=10, batch_size=64, validation_data=(x_test, y_test))"
   ]
  },
  {
   "cell_type": "markdown",
   "id": "d8187812",
   "metadata": {},
   "source": [
    "d) Estimating the model performance"
   ]
  },
  {
   "cell_type": "code",
   "execution_count": 18,
   "id": "9fa18bca",
   "metadata": {},
   "outputs": [
    {
     "name": "stdout",
     "output_type": "stream",
     "text": [
      "313/313 [==============================] - 1s 5ms/step - loss: 0.8854 - accuracy: 0.6980\n",
      "Test loss: 0.8854\n",
      "Test accuracy: 0.6980\n"
     ]
    }
   ],
   "source": [
    "# Evaluate the model\n",
    "test_loss, test_accuracy = model.evaluate(x_test, y_test)\n",
    "\n",
    "print(f'Test loss: {test_loss:.4f}')\n",
    "print(f'Test accuracy: {test_accuracy:.4f}')"
   ]
  },
  {
   "cell_type": "code",
   "execution_count": null,
   "id": "c3f9c32b",
   "metadata": {},
   "outputs": [],
   "source": []
  }
 ],
 "metadata": {
  "kernelspec": {
   "display_name": "Python 3 (ipykernel)",
   "language": "python",
   "name": "python3"
  },
  "language_info": {
   "codemirror_mode": {
    "name": "ipython",
    "version": 3
   },
   "file_extension": ".py",
   "mimetype": "text/x-python",
   "name": "python",
   "nbconvert_exporter": "python",
   "pygments_lexer": "ipython3",
   "version": "3.11.5"
  }
 },
 "nbformat": 4,
 "nbformat_minor": 5
}
