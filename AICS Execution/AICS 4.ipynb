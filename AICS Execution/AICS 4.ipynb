{
 "cells": [
  {
   "cell_type": "code",
   "execution_count": 1,
   "id": "ccd55dcf",
   "metadata": {},
   "outputs": [],
   "source": [
    "import numpy as np\n",
    "import pandas as pd"
   ]
  },
  {
   "cell_type": "code",
   "execution_count": 2,
   "id": "27605b6f",
   "metadata": {},
   "outputs": [
    {
     "data": {
      "text/html": [
       "<div>\n",
       "<style scoped>\n",
       "    .dataframe tbody tr th:only-of-type {\n",
       "        vertical-align: middle;\n",
       "    }\n",
       "\n",
       "    .dataframe tbody tr th {\n",
       "        vertical-align: top;\n",
       "    }\n",
       "\n",
       "    .dataframe thead th {\n",
       "        text-align: right;\n",
       "    }\n",
       "</style>\n",
       "<table border=\"1\" class=\"dataframe\">\n",
       "  <thead>\n",
       "    <tr style=\"text-align: right;\">\n",
       "      <th></th>\n",
       "      <th>candy variety</th>\n",
       "      <th>Date and Time</th>\n",
       "      <th>Day</th>\n",
       "      <th>Length</th>\n",
       "      <th>Breadth</th>\n",
       "      <th>Price</th>\n",
       "    </tr>\n",
       "  </thead>\n",
       "  <tbody>\n",
       "    <tr>\n",
       "      <th>0</th>\n",
       "      <td>chocolate hearts</td>\n",
       "      <td>09-02-2020 14:05</td>\n",
       "      <td>sunday</td>\n",
       "      <td>3.0</td>\n",
       "      <td>2.0</td>\n",
       "      <td>7.5</td>\n",
       "    </tr>\n",
       "    <tr>\n",
       "      <th>1</th>\n",
       "      <td>sour jelly</td>\n",
       "      <td>24-10-2020 18:00</td>\n",
       "      <td>saturday</td>\n",
       "      <td>3.5</td>\n",
       "      <td>2.0</td>\n",
       "      <td>7.6</td>\n",
       "    </tr>\n",
       "    <tr>\n",
       "      <th>2</th>\n",
       "      <td>candy canes</td>\n",
       "      <td>18-12-2020 20:13</td>\n",
       "      <td>friday</td>\n",
       "      <td>3.5</td>\n",
       "      <td>2.5</td>\n",
       "      <td>8.0</td>\n",
       "    </tr>\n",
       "    <tr>\n",
       "      <th>3</th>\n",
       "      <td>sour jelly</td>\n",
       "      <td>25-10-2020 10:00</td>\n",
       "      <td>sunday</td>\n",
       "      <td>3.5</td>\n",
       "      <td>2.0</td>\n",
       "      <td>7.6</td>\n",
       "    </tr>\n",
       "    <tr>\n",
       "      <th>4</th>\n",
       "      <td>fruit drops</td>\n",
       "      <td>18-10-2020 15:46</td>\n",
       "      <td>sunday</td>\n",
       "      <td>3.0</td>\n",
       "      <td>3.0</td>\n",
       "      <td>9.0</td>\n",
       "    </tr>\n",
       "  </tbody>\n",
       "</table>\n",
       "</div>"
      ],
      "text/plain": [
       "      candy variety     Date and Time       Day  Length  Breadth  Price\n",
       "0  chocolate hearts  09-02-2020 14:05    sunday     3.0      2.0    7.5\n",
       "1        sour jelly  24-10-2020 18:00  saturday     3.5      2.0    7.6\n",
       "2       candy canes  18-12-2020 20:13    friday     3.5      2.5    8.0\n",
       "3        sour jelly  25-10-2020 10:00    sunday     3.5      2.0    7.6\n",
       "4       fruit drops  18-10-2020 15:46    sunday     3.0      3.0    9.0"
      ]
     },
     "execution_count": 2,
     "metadata": {},
     "output_type": "execute_result"
    }
   ],
   "source": [
    "data={\n",
    "  'candy variety':['chocolate hearts','sour jelly','candy canes','sour jelly','fruit drops'],\n",
    "\t'Date and Time':['09-02-2020 14:05','24-10-2020 18:00','18-12-2020 20:13','25-10-2020 10:00','18-10-2020 15:46'],\n",
    "\t'Day':['sunday','saturday','friday','sunday','sunday'],\n",
    "\t'Length':[3,3.5,3.5,3.5,3],\n",
    "\t'Breadth':[2,2,2.5,2,3],\n",
    "\t'Price':[7.5,7.6,8,7.6,9]\n",
    "  }\n",
    "df=pd.DataFrame(data)\n",
    "df.head()"
   ]
  },
  {
   "cell_type": "code",
   "execution_count": 3,
   "id": "c4b4a1e3",
   "metadata": {},
   "outputs": [
    {
     "name": "stdout",
     "output_type": "stream",
     "text": [
      "      candy variety       Date and Time       Day  Length  Breadth  Price\n",
      "0  chocolate hearts 2020-02-09 14:05:00    sunday     3.0      2.0    7.5\n",
      "1        sour jelly 2020-10-24 18:00:00  saturday     3.5      2.0    7.6\n",
      "2       candy canes 2020-12-18 20:13:00    friday     3.5      2.5    8.0\n",
      "3        sour jelly 2020-10-25 10:00:00    sunday     3.5      2.0    7.6\n",
      "4       fruit drops 2020-10-18 15:46:00    sunday     3.0      3.0    9.0\n"
     ]
    }
   ],
   "source": [
    "df['Date and Time']=pd.to_datetime(df['Date and Time'],format=\"%d-%m-%Y %H:%M\")\n",
    "print(df)"
   ]
  },
  {
   "cell_type": "code",
   "execution_count": 4,
   "id": "28b51376",
   "metadata": {},
   "outputs": [
    {
     "name": "stdout",
     "output_type": "stream",
     "text": [
      "      candy variety        Date\n",
      "0  chocolate hearts  2020-02-09\n",
      "1        sour jelly  2020-10-24\n",
      "2       candy canes  2020-12-18\n",
      "3        sour jelly  2020-10-25\n",
      "4       fruit drops  2020-10-18\n"
     ]
    }
   ],
   "source": [
    "df['Date']=df['Date and Time'].dt.date\n",
    "print(df[['candy variety','Date']])"
   ]
  },
  {
   "cell_type": "code",
   "execution_count": 5,
   "id": "496910b3",
   "metadata": {},
   "outputs": [
    {
     "name": "stdout",
     "output_type": "stream",
     "text": [
      "      candy variety        Date  weekend\n",
      "0  chocolate hearts  2020-02-09        1\n",
      "1        sour jelly  2020-10-24        1\n",
      "2       candy canes  2020-12-18        0\n",
      "3        sour jelly  2020-10-25        1\n",
      "4       fruit drops  2020-10-18        1\n"
     ]
    }
   ],
   "source": [
    "df['weekend']=np.where(df['Day'].isin(['saturday','sunday']),1,0)\n",
    "print(df[['candy variety','Date','weekend']])"
   ]
  },
  {
   "cell_type": "code",
   "execution_count": 6,
   "id": "10e7e92d",
   "metadata": {},
   "outputs": [
    {
     "data": {
      "text/html": [
       "<div>\n",
       "<style scoped>\n",
       "    .dataframe tbody tr th:only-of-type {\n",
       "        vertical-align: middle;\n",
       "    }\n",
       "\n",
       "    .dataframe tbody tr th {\n",
       "        vertical-align: top;\n",
       "    }\n",
       "\n",
       "    .dataframe thead th {\n",
       "        text-align: right;\n",
       "    }\n",
       "</style>\n",
       "<table border=\"1\" class=\"dataframe\">\n",
       "  <thead>\n",
       "    <tr style=\"text-align: right;\">\n",
       "      <th></th>\n",
       "      <th>candy variety</th>\n",
       "      <th>Date and Time</th>\n",
       "      <th>Day</th>\n",
       "      <th>Length</th>\n",
       "      <th>Breadth</th>\n",
       "      <th>Price</th>\n",
       "    </tr>\n",
       "  </thead>\n",
       "  <tbody>\n",
       "    <tr>\n",
       "      <th>0</th>\n",
       "      <td>chocolate hearts</td>\n",
       "      <td>09-02-2020 14:05</td>\n",
       "      <td>sunday</td>\n",
       "      <td>3.0</td>\n",
       "      <td>2.0</td>\n",
       "      <td>7.5</td>\n",
       "    </tr>\n",
       "    <tr>\n",
       "      <th>1</th>\n",
       "      <td>sour jelly</td>\n",
       "      <td>24-10-2020 18:00</td>\n",
       "      <td>saturday</td>\n",
       "      <td>3.5</td>\n",
       "      <td>2.0</td>\n",
       "      <td>7.6</td>\n",
       "    </tr>\n",
       "    <tr>\n",
       "      <th>2</th>\n",
       "      <td>candy canes</td>\n",
       "      <td>18-12-2020 20:13</td>\n",
       "      <td>friday</td>\n",
       "      <td>3.5</td>\n",
       "      <td>2.5</td>\n",
       "      <td>8.0</td>\n",
       "    </tr>\n",
       "    <tr>\n",
       "      <th>3</th>\n",
       "      <td>sour jelly</td>\n",
       "      <td>25-10-2020 10:00</td>\n",
       "      <td>sunday</td>\n",
       "      <td>3.5</td>\n",
       "      <td>2.0</td>\n",
       "      <td>7.6</td>\n",
       "    </tr>\n",
       "    <tr>\n",
       "      <th>4</th>\n",
       "      <td>fruit drops</td>\n",
       "      <td>18-10-2020 15:46</td>\n",
       "      <td>sunday</td>\n",
       "      <td>3.0</td>\n",
       "      <td>3.0</td>\n",
       "      <td>9.0</td>\n",
       "    </tr>\n",
       "  </tbody>\n",
       "</table>\n",
       "</div>"
      ],
      "text/plain": [
       "      candy variety     Date and Time       Day  Length  Breadth  Price\n",
       "0  chocolate hearts  09-02-2020 14:05    sunday     3.0      2.0    7.5\n",
       "1        sour jelly  24-10-2020 18:00  saturday     3.5      2.0    7.6\n",
       "2       candy canes  18-12-2020 20:13    friday     3.5      2.5    8.0\n",
       "3        sour jelly  25-10-2020 10:00    sunday     3.5      2.0    7.6\n",
       "4       fruit drops  18-10-2020 15:46    sunday     3.0      3.0    9.0"
      ]
     },
     "execution_count": 6,
     "metadata": {},
     "output_type": "execute_result"
    }
   ],
   "source": [
    "data={\n",
    "  'candy variety':['chocolate hearts','sour jelly','candy canes','sour jelly','fruit drops'],\n",
    "\t'Date and Time':['09-02-2020 14:05','24-10-2020 18:00','18-12-2020 20:13','25-10-2020 10:00','18-10-2020 15:46'],\n",
    "\t'Day':['sunday','saturday','friday','sunday','sunday'],\n",
    "\t'Length':[3,3.5,3.5,3.5,3],\n",
    "\t'Breadth':[2,2,2.5,2,3],\n",
    "\t'Price':[7.5,7.6,8,7.6,9]\n",
    "  }\n",
    "df=pd.DataFrame(data)\n",
    "df.head()"
   ]
  },
  {
   "cell_type": "code",
   "execution_count": 7,
   "id": "94c5c61d",
   "metadata": {},
   "outputs": [
    {
     "name": "stdout",
     "output_type": "stream",
     "text": [
      "      candy variety        Date and Time       Day  Length  Breadth  Price\n",
      "0  chocolate hearts  2020-02-09 14:05:00    sunday     3.0      2.0    7.5\n",
      "1        sour jelly  2020-10-24 18:00:00  saturday     3.5      2.0    7.6\n",
      "2       candy canes  2020-12-18 20:13:00    friday     3.5      2.5    8.0\n",
      "3        sour jelly  2020-10-25 10:00:00    sunday     3.5      2.0    7.6\n",
      "4       fruit drops  2020-10-18 15:46:00    sunday     3.0      3.0    9.0\n",
      "5               NaN     22-10-2020 17:24  thursday     3.5      2.0    NaN\n"
     ]
    }
   ],
   "source": [
    "df['Date and Time']=pd.to_datetime(df['Date and Time'],format=\"%d-%m-%Y %H:%M\")\n",
    "df.loc[len(df.index)]=[np.NaN,'22-10-2020 17:24','thursday',3.5,2,np.NaN]\n",
    "print(df)"
   ]
  },
  {
   "cell_type": "code",
   "execution_count": 8,
   "id": "bf9ec405",
   "metadata": {},
   "outputs": [
    {
     "name": "stdout",
     "output_type": "stream",
     "text": [
      "      candy variety        Date and Time       Day  Length  Breadth  Price\n",
      "0  chocolate hearts  2020-02-09 14:05:00    sunday     3.0      2.0   7.50\n",
      "1        sour jelly  2020-10-24 18:00:00  saturday     3.5      2.0   7.60\n",
      "2       candy canes  2020-12-18 20:13:00    friday     3.5      2.5   8.00\n",
      "3        sour jelly  2020-10-25 10:00:00    sunday     3.5      2.0   7.60\n",
      "4       fruit drops  2020-10-18 15:46:00    sunday     3.0      3.0   9.00\n",
      "5        sour jelly     22-10-2020 17:24  thursday     3.5      2.0   7.94\n"
     ]
    }
   ],
   "source": [
    "df['candy variety']=df['candy variety'].fillna(df['candy variety'].mode()[0])\n",
    "df['Price']=df['Price'].fillna(df['Price'].mean())\n",
    "print(df)"
   ]
  },
  {
   "cell_type": "code",
   "execution_count": 9,
   "id": "50acb111",
   "metadata": {},
   "outputs": [
    {
     "name": "stdout",
     "output_type": "stream",
     "text": [
      "      candy variety        Date and Time       Day  Length  Breadth  Price  \\\n",
      "0  chocolate hearts  2020-02-09 14:05:00    sunday     3.0      2.0   7.50   \n",
      "1        sour jelly  2020-10-24 18:00:00  saturday     3.5      2.0   7.60   \n",
      "2       candy canes  2020-12-18 20:13:00    friday     3.5      2.5   8.00   \n",
      "3        sour jelly  2020-10-25 10:00:00    sunday     3.5      2.0   7.60   \n",
      "4       fruit drops  2020-10-18 15:46:00    sunday     3.0      3.0   9.00   \n",
      "5        sour jelly     22-10-2020 17:24  thursday     3.5      2.0   7.94   \n",
      "\n",
      "  Type of Day  \n",
      "0     weekend  \n",
      "1     weekend  \n",
      "2     weekday  \n",
      "3     weekend  \n",
      "4     weekend  \n",
      "5     weekday  \n"
     ]
    }
   ],
   "source": [
    "df['Type of Day']=np.where(df['Day'].isin(['saturday','sunday']),'weekend','weekday')\n",
    "df[['candy variety','Day','Type of Day']]\n",
    "print(df)"
   ]
  },
  {
   "cell_type": "code",
   "execution_count": 10,
   "id": "ab22a38d",
   "metadata": {},
   "outputs": [
    {
     "name": "stdout",
     "output_type": "stream",
     "text": [
      "      candy variety       Day Type of Day  weekend  weekday\n",
      "0  chocolate hearts    sunday     weekend        1        0\n",
      "1        sour jelly  saturday     weekend        1        0\n",
      "2       candy canes    friday     weekday        0        1\n",
      "3        sour jelly    sunday     weekend        1        0\n",
      "4       fruit drops    sunday     weekend        1        0\n",
      "5        sour jelly  thursday     weekday        0        1\n"
     ]
    }
   ],
   "source": [
    "for x in df['Type of Day'].unique():df[x]=np.where(df['Type of Day']==x,1,0)\n",
    "print(df[['candy variety','Day','Type of Day','weekend','weekday']])"
   ]
  },
  {
   "cell_type": "code",
   "execution_count": 11,
   "id": "9d86c342",
   "metadata": {},
   "outputs": [
    {
     "name": "stdout",
     "output_type": "stream",
     "text": [
      "      candy variety        Date\n",
      "0  chocolate hearts  2020-02-09\n",
      "1        sour jelly  2020-10-24\n",
      "2       candy canes  2020-12-18\n",
      "3        sour jelly  2020-10-25\n",
      "4       fruit drops  2020-10-18\n",
      "5        sour jelly  2020-10-22\n"
     ]
    }
   ],
   "source": [
    "df['Date and Time']=pd.to_datetime(df['Date and Time'])\n",
    "df['Date']=df['Date and Time'].dt.date\n",
    "print(df[['candy variety','Date']])"
   ]
  },
  {
   "cell_type": "code",
   "execution_count": null,
   "id": "b8f299b1",
   "metadata": {},
   "outputs": [],
   "source": []
  }
 ],
 "metadata": {
  "kernelspec": {
   "display_name": "Python 3 (ipykernel)",
   "language": "python",
   "name": "python3"
  },
  "language_info": {
   "codemirror_mode": {
    "name": "ipython",
    "version": 3
   },
   "file_extension": ".py",
   "mimetype": "text/x-python",
   "name": "python",
   "nbconvert_exporter": "python",
   "pygments_lexer": "ipython3",
   "version": "3.9.13"
  }
 },
 "nbformat": 4,
 "nbformat_minor": 5
}
