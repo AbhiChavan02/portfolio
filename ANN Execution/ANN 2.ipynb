{
 "cells": [
  {
   "cell_type": "code",
   "execution_count": 1,
   "id": "ce88dab3",
   "metadata": {},
   "outputs": [],
   "source": [
    "import numpy as np "
   ]
  },
  {
   "cell_type": "code",
   "execution_count": 2,
   "id": "db0493e7",
   "metadata": {},
   "outputs": [],
   "source": [
    "def xor(x1, x2): \n",
    " return int((x1 + x2) == 1) "
   ]
  },
  {
   "cell_type": "code",
   "execution_count": 3,
   "id": "0dbb385a",
   "metadata": {},
   "outputs": [],
   "source": [
    "def sigmoid(x): \n",
    " return 1 / (1 + np.exp(-x)) \n",
    "def sigmoid_derivative(x): \n",
    " return sigmoid(x) * (1 - sigmoid(x)) "
   ]
  },
  {
   "cell_type": "code",
   "execution_count": 4,
   "id": "e5ac2b0d",
   "metadata": {},
   "outputs": [],
   "source": [
    "X = np.array([[0, 0], [0, 1], [1, 0], [1, 1]]) \n",
    "Y = np.array([[xor(x[0], x[1])] for x in X]) "
   ]
  },
  {
   "cell_type": "code",
   "execution_count": 5,
   "id": "fbbecfbd",
   "metadata": {},
   "outputs": [],
   "source": [
    "hidden_weights = np.random.rand(2, 2) - 0.5 \n",
    "hidden_bias = np.random.rand(1, 2) - 0.5 \n",
    "output_weights = np.random.rand(2, 1) - 0.5 \n",
    "output_bias = np.random.rand(1, 1) - 0.5 "
   ]
  },
  {
   "cell_type": "code",
   "execution_count": 6,
   "id": "b9f40c88",
   "metadata": {},
   "outputs": [],
   "source": [
    "learning_rate = 0.1 \n",
    "epochs = 10000"
   ]
  },
  {
   "cell_type": "code",
   "execution_count": 11,
   "id": "96417fa4",
   "metadata": {},
   "outputs": [],
   "source": [
    "for i in range(epochs): \n",
    "    hidden_layer = sigmoid(np.dot(X, hidden_weights) + hidden_bias) \n",
    "    output_layer = sigmoid(np.dot(hidden_layer, output_weights) + output_bias) \n",
    "    output_error = Y - output_layer \n",
    "    output_delta = output_error * sigmoid_derivative(output_layer) \n",
    "    hidden_error = np.dot(output_delta, output_weights.T) \n",
    "    hidden_delta = hidden_error * sigmoid_derivative(hidden_layer) \n",
    "    output_weights += learning_rate * np.dot(hidden_layer.T, output_delta) \n",
    "    output_bias += learning_rate * np.sum(output_delta, axis=0, keepdims=True) \n",
    "    hidden_weights += learning_rate * np.dot(X.T, hidden_delta) \n",
    "    hidden_bias += learning_rate * np.sum(hidden_delta, axis=0, keepdims=True)"
   ]
  },
  {
   "cell_type": "code",
   "execution_count": 12,
   "id": "323bb81b",
   "metadata": {},
   "outputs": [],
   "source": [
    "test_X = np.array([[0, 0], [0, 1], [1, 0], [1, 1]]) \n",
    "test_Y = np.array([[xor(x[0], x[1])] for x in test_X])"
   ]
  },
  {
   "cell_type": "code",
   "execution_count": 13,
   "id": "36b1d573",
   "metadata": {},
   "outputs": [],
   "source": [
    "test_hidden_layer = sigmoid(np.dot(test_X, hidden_weights) + hidden_bias) \n",
    "test_output_layer = sigmoid(np.dot(test_hidden_layer, output_weights) + output_bias) "
   ]
  },
  {
   "cell_type": "code",
   "execution_count": 14,
   "id": "d3c1a2a9",
   "metadata": {},
   "outputs": [
    {
     "name": "stdout",
     "output_type": "stream",
     "text": [
      "Input\tOutput\tExpected\n",
      "[0 0] \t 0 \t 0\n",
      "[0 1] \t 0 \t 1\n",
      "[1 0] \t 1 \t 1\n",
      "[1 1] \t 1 \t 0\n"
     ]
    }
   ],
   "source": [
    "print(\"Input\\tOutput\\tExpected\") \n",
    "for i in range(len(test_X)): \n",
    " print(test_X[i], \"\\t\", round(test_output_layer[i][0]), \"\\t\", test_Y[i][0])"
   ]
  }
 ],
 "metadata": {
  "kernelspec": {
   "display_name": "Python 3 (ipykernel)",
   "language": "python",
   "name": "python3"
  },
  "language_info": {
   "codemirror_mode": {
    "name": "ipython",
    "version": 3
   },
   "file_extension": ".py",
   "mimetype": "text/x-python",
   "name": "python",
   "nbconvert_exporter": "python",
   "pygments_lexer": "ipython3",
   "version": "3.9.13"
  }
 },
 "nbformat": 4,
 "nbformat_minor": 5
}
